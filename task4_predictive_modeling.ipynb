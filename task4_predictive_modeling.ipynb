{
 "cells": [
  {
   "cell_type": "code",
   "execution_count": null,
   "id": "61885be2-72dd-460a-b0a5-4524966d87de",
   "metadata": {},
   "outputs": [],
   "source": [
    "import pandas as pd\n",
    "\n",
    "df = pd.read_excel('data/insurance_data.xls')\n",
    "\n",
    "# Add HasClaim (binary target)\n",
    "df['HasClaim'] = df['TotalClaims'] > 0\n",
    "df['HasClaim'] = df['HasClaim'].astype(int)\n",
    "\n",
    "# Add Margin\n",
    "df['Margin'] = df['TotalPremium'] - df['TotalClaims']\n",
    "\n",
    "df.head()\n"
   ]
  },
  {
   "cell_type": "code",
   "execution_count": null,
   "id": "c185621c-67bc-46e7-b379-f2542d79f677",
   "metadata": {},
   "outputs": [],
   "source": [
    "\n",
    "features = ['Province', 'PostalCode', 'Gender', 'Age', 'VehicleType', 'TotalPremium']\n",
    "\n",
    "# One-hot encoding\n",
    "df_encoded = pd.get_dummies(df[features], drop_first=True)\n",
    "\n",
    "# Add target column\n",
    "df_encoded['HasClaim'] = df['HasClaim']\n",
    "df_encoded['TotalClaims'] = df['TotalClaims']\n"
   ]
  },
  {
   "cell_type": "code",
   "execution_count": null,
   "id": "6514591c-91b3-4b61-9287-56d922c9a8bd",
   "metadata": {},
   "outputs": [],
   "source": [
    "from sklearn.model_selection import train_test_split\n",
    "\n",
    "# Split for classification model\n",
    "X = df_encoded.drop(columns=['HasClaim', 'TotalClaims'])\n",
    "y_class = df_encoded['HasClaim']\n",
    "\n",
    "X_train, X_test, y_train, y_test = train_test_split(X, y_class, test_size=0.2, random_state=42)\n"
   ]
  },
  {
   "cell_type": "code",
   "execution_count": null,
   "id": "695fd70c-b83e-4f17-aac8-af98a9a5edae",
   "metadata": {},
   "outputs": [],
   "source": [
    "from sklearn.ensemble import RandomForestClassifier\n",
    "from sklearn.metrics import classification_report, confusion_matrix\n",
    "\n",
    "# Train Random Forest\n",
    "clf = RandomForestClassifier(random_state=42)\n",
    "clf.fit(X_train, y_train)\n",
    "\n",
    "# Predict\n",
    "y_pred = clf.predict(X_test)\n",
    "\n",
    "# Evaluate\n",
    "print(classification_report(y_test, y_pred))\n",
    "print(confusion_matrix(y_test, y_pred))\n"
   ]
  },
  {
   "cell_type": "code",
   "execution_count": null,
   "id": "be765c0d-debd-474a-8bc0-21486915cdff",
   "metadata": {},
   "outputs": [],
   "source": [
    "# Now use only clients with a claim\n",
    "df_with_claims = df_encoded[df_encoded['HasClaim'] == 1]\n",
    "\n",
    "X_reg = df_with_claims.drop(columns=['HasClaim', 'TotalClaims'])\n",
    "y_reg = df_with_claims['TotalClaims']\n",
    "\n",
    "# Split data\n",
    "X_train_reg, X_test_reg, y_train_reg, y_test_reg = train_test_split(X_reg, y_reg, test_size=0.2, random_state=42)\n",
    "\n",
    "# Train Random Forest Regressor\n",
    "from sklearn.ensemble import RandomForestRegressor\n",
    "from sklearn.metrics import mean_squared_error, r2_score\n",
    "\n",
    "reg = RandomForestRegressor(random_state=42)\n",
    "reg.fit(X_train_reg, y_train_reg)\n",
    "\n",
    "# Predict\n",
    "y_pred_reg = reg.predict(X_test_reg)\n",
    "\n",
    "# Evaluate\n",
    "print(\"RMSE:\", mean_squared_error(y_test_reg, y_pred_reg, squared=False))\n",
    "print(\"R^2 Score:\", r2_score(y_test_reg, y_pred_reg))\n"
   ]
  }
 ],
 "metadata": {
  "kernelspec": {
   "display_name": "Python 3 (ipykernel)",
   "language": "python",
   "name": "python3"
  },
  "language_info": {
   "codemirror_mode": {
    "name": "ipython",
    "version": 3
   },
   "file_extension": ".py",
   "mimetype": "text/x-python",
   "name": "python",
   "nbconvert_exporter": "python",
   "pygments_lexer": "ipython3",
   "version": "3.12.3"
  }
 },
 "nbformat": 4,
 "nbformat_minor": 5
}
