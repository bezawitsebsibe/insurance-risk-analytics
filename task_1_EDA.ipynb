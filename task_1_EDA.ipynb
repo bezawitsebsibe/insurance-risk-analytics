{
 "cells": [
  {
   "cell_type": "code",
   "execution_count": null,
   "id": "10a35cd0-ec40-4ea2-b7a3-10cb1603d1ac",
   "metadata": {},
   "outputs": [],
   "source": [
    "import pandas as pd\n",
    "import matplotlib.pyplot as plt\n",
    "import seaborn as sns"
   ]
  },
  {
   "cell_type": "code",
   "execution_count": null,
   "id": "d3a1f54f-3714-482a-8636-7cd8fe46e0ef",
   "metadata": {},
   "outputs": [],
   "source": [
    "data = pd.read_csv('data/insurance_data.csv')\n"
   ]
  },
  {
   "cell_type": "code",
   "execution_count": null,
   "id": "b7ccc0ce-a366-4296-a69f-8d056f1c9ad2",
   "metadata": {},
   "outputs": [],
   "source": [
    "print(data.info())\n",
    "print(data.head())"
   ]
  },
  {
   "cell_type": "code",
   "execution_count": null,
   "id": "51731090-dbc7-429b-938c-02931c6d59a6",
   "metadata": {},
   "outputs": [],
   "source": [
    "data['LossRatio'] = data['TotalClaims'] / data['TotalPremium']"
   ]
  },
  {
   "cell_type": "code",
   "execution_count": null,
   "id": "58741bc7-596d-4789-b00f-e0e5c5580d62",
   "metadata": {},
   "outputs": [],
   "source": [
    "print(data[['TotalPremium', 'TotalClaims', 'LossRatio']].describe())"
   ]
  },
  {
   "cell_type": "code",
   "execution_count": null,
   "id": "5eff3e21-4e48-40b6-ad9e-cda42231afb2",
   "metadata": {},
   "outputs": [],
   "source": [
    "print(data.isnull().sum())"
   ]
  },
  {
   "cell_type": "code",
   "execution_count": null,
   "id": "5b6c03c6-ac02-479e-af2f-de557cd8f85e",
   "metadata": {},
   "outputs": [],
   "source": [
    "plt.figure(figsize=(10,5))\n",
    "sns.histplot(data['TotalPremium'], kde=True)\n",
    "plt.title('Distribution of Total Premium')\n",
    "plt.show()"
   ]
  },
  {
   "cell_type": "code",
   "execution_count": null,
   "id": "62151362-d99f-4f30-b12b-1412fc999eb0",
   "metadata": {},
   "outputs": [],
   "source": [
    "plt.figure(figsize=(10,5))\n",
    "sns.histplot(data['TotalClaims'], kde=True)\n",
    "plt.title('Distribution of Total Claims')\n",
    "plt.show()"
   ]
  },
  {
   "cell_type": "code",
   "execution_count": null,
   "id": "102bc979-b8c2-48bd-9077-adc56a4bef70",
   "metadata": {},
   "outputs": [],
   "source": [
    "plt.figure(figsize=(12,6))\n",
    "sns.boxplot(x='Province', y='LossRatio', data=data)\n",
    "plt.title('Loss Ratio by Province')\n",
    "plt.xticks(rotation=45)\n",
    "plt.show()"
   ]
  },
  {
   "cell_type": "code",
   "execution_count": null,
   "id": "561cd046-5959-4eba-8c85-eaad593ead96",
   "metadata": {},
   "outputs": [],
   "source": [
    "plt.figure(figsize=(12,6))\n",
    "sns.boxplot(x='VehicleType', y='LossRatio', data=data)\n",
    "plt.title('Loss Ratio by Vehicle Type')\n",
    "plt.xticks(rotation=45)\n",
    "plt.show()"
   ]
  },
  {
   "cell_type": "code",
   "execution_count": null,
   "id": "3dfcb57e-2304-4108-a440-9f8c741e87bb",
   "metadata": {},
   "outputs": [],
   "source": [
    "plt.figure(figsize=(6,6))\n",
    "sns.boxplot(x='Gender', y='LossRatio', data=data)\n",
    "plt.title('Loss Ratio by Gender')\n",
    "plt.show()"
   ]
  }
 ],
 "metadata": {
  "kernelspec": {
   "display_name": "Python 3 (ipykernel)",
   "language": "python",
   "name": "python3"
  },
  "language_info": {
   "codemirror_mode": {
    "name": "ipython",
    "version": 3
   },
   "file_extension": ".py",
   "mimetype": "text/x-python",
   "name": "python",
   "nbconvert_exporter": "python",
   "pygments_lexer": "ipython3",
   "version": "3.12.3"
  }
 },
 "nbformat": 4,
 "nbformat_minor": 5
}
